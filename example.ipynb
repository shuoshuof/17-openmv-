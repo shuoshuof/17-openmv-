{
 "cells": [
  {
   "attachments": {},
   "cell_type": "markdown",
   "metadata": {},
   "source": [
    "# 中国石油大学（华东） 神魔都 车队国特开源\n",
    "## OpenMV上的矩阵库\n",
    "众所周知啦，numpy是python中非常重要的的一个库，支持各种矩阵的操作。在我们比赛的使用的art上是不可以调用的。但我们在art上确实会有一定的需求，比如进行透视变换。这时候就需要一个矩阵运算库了。     \n",
    "其实OpenMV的文档上也给出了几个第三方的矩阵运算库，它们都很不错，但是其接口风格与numpy不太相似，并且有些也没有操作符重载。为了满足我自己的需求，于是便自己动手编写了一个。   \n",
    "在这个库，用法基本与numpy一致。如果你熟悉numpy，相信一定能很快掌握。这里需要解释一下为什么要模仿numpy的接口：在测试算法时，我有时候会先在电脑上用opencv进行测试（在电脑上方便调试），这个时候，算法的核心部分一般由numpy实现，当将其移到art或者OpenMV上时，只需要将 import numpy as np 改为 import openmv_numpy as np就可以了，算法核心部分基本不用改。  \n",
    "因为能力与时间有限，还要很多需要完善的地方，这里仅是抛砖引玉。"
   ]
  },
  {
   "attachments": {},
   "cell_type": "markdown",
   "metadata": {},
   "source": [
    "## 基本用法介绍"
   ]
  },
  {
   "attachments": {},
   "cell_type": "markdown",
   "metadata": {},
   "source": [
    "### 1. 定义"
   ]
  },
  {
   "cell_type": "code",
   "execution_count": 12,
   "metadata": {},
   "outputs": [
    {
     "name": "stdout",
     "output_type": "stream",
     "text": [
      "[[2, 1], [2, 2]]\n",
      "(2, 2)\n"
     ]
    }
   ],
   "source": [
    "import openmv_numpy as np\n",
    "A = np.array([[2,1],\n",
    "              [2,2]])\n",
    "print(A)\n",
    "print(A.shape)"
   ]
  },
  {
   "attachments": {},
   "cell_type": "markdown",
   "metadata": {},
   "source": [
    "### 2. 基本运算\n",
    "通过操作符重载实现矩阵的基本运算    \n",
    "这里需要注意，与numpy的不同，矩阵乘法用*代替，而不是@。"
   ]
  },
  {
   "cell_type": "code",
   "execution_count": 13,
   "metadata": {},
   "outputs": [
    {
     "name": "stdout",
     "output_type": "stream",
     "text": [
      "[[3, 2], [3, 3]]\n",
      "[[1, 0], [1, 1]]\n",
      "[[3, 3], [4, 4]]\n"
     ]
    }
   ],
   "source": [
    "B= np.array([[1,1],\n",
    "             [1,1]])\n",
    "print(A+B)\n",
    "print(A-B)\n",
    "print(A*B)"
   ]
  },
  {
   "attachments": {},
   "cell_type": "markdown",
   "metadata": {},
   "source": [
    "### 3. 其它运算\n",
    "+ 转置\n",
    "+ 求逆\n",
    "+ 求矩阵行列式值"
   ]
  },
  {
   "cell_type": "code",
   "execution_count": 14,
   "metadata": {},
   "outputs": [
    {
     "name": "stdout",
     "output_type": "stream",
     "text": [
      "[[2, 2], [1, 2]]\n",
      "[[1.0, -0.5], [-1.0, 1.0]]\n",
      "2.0\n"
     ]
    }
   ],
   "source": [
    "print(A.T)\n",
    "print(A.inv())\n",
    "print(A.det())"
   ]
  },
  {
   "attachments": {},
   "cell_type": "markdown",
   "metadata": {},
   "source": [
    "### 4. 快速构建"
   ]
  },
  {
   "cell_type": "code",
   "execution_count": 16,
   "metadata": {},
   "outputs": [
    {
     "name": "stdout",
     "output_type": "stream",
     "text": [
      "[[1, 1], [1, 1]]\n",
      "[[0, 0], [0, 0]]\n",
      "[[1, 1], [1, 1]]\n",
      "[[1, 0], [0, 1]]\n"
     ]
    }
   ],
   "source": [
    "print(np.ones((2,2)))\n",
    "print(np.zeros((2,2)))\n",
    "print(np.full((2,2),1))\n",
    "print(np.eye(2,1))"
   ]
  },
  {
   "attachments": {},
   "cell_type": "markdown",
   "metadata": {},
   "source": [
    "### 5. 解线性方程组"
   ]
  },
  {
   "cell_type": "code",
   "execution_count": 18,
   "metadata": {},
   "outputs": [
    {
     "name": "stdout",
     "output_type": "stream",
     "text": [
      "[[1.0000000000000004], [2.0000000000000004], [3.0]]\n"
     ]
    }
   ],
   "source": [
    "\n",
    "A = np.array([[12,-3,3],\n",
    "                [-18,3,-1],\n",
    "                [1,1,1]])\n",
    "B = np.array([[15],\n",
    "                [-15],\n",
    "                [6]]  )\n",
    "\n",
    "X = np.solve(A,B)\n",
    "print(X)"
   ]
  }
 ],
 "metadata": {
  "kernelspec": {
   "display_name": "base",
   "language": "python",
   "name": "python3"
  },
  "language_info": {
   "codemirror_mode": {
    "name": "ipython",
    "version": 3
   },
   "file_extension": ".py",
   "mimetype": "text/x-python",
   "name": "python",
   "nbconvert_exporter": "python",
   "pygments_lexer": "ipython3",
   "version": "3.9.13 (main, Aug 25 2022, 23:51:50) [MSC v.1916 64 bit (AMD64)]"
  },
  "orig_nbformat": 4,
  "vscode": {
   "interpreter": {
    "hash": "5c8985b134ca31c800365a482ea2e02d61c4c6051d5e4ca4cada8260d96b92fc"
   }
  }
 },
 "nbformat": 4,
 "nbformat_minor": 2
}
